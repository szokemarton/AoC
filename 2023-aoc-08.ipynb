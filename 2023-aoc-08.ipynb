{
 "cells": [
  {
   "cell_type": "code",
   "execution_count": 6,
   "id": "e5b1bc54",
   "metadata": {},
   "outputs": [],
   "source": [
    "with open(\"input08.txt\") as file:\n",
    "    input_txt = file.read().split('\\n')"
   ]
  },
  {
   "cell_type": "code",
   "execution_count": 7,
   "id": "c5171be9",
   "metadata": {},
   "outputs": [],
   "source": [
    "nav = input_txt[0]\n",
    "nodes = {}\n",
    "for n in input_txt[2:-1]:\n",
    "    nodes[n[:3]] = [n[7:10],n[12:15]]"
   ]
  },
  {
   "cell_type": "code",
   "execution_count": 9,
   "id": "dbd29346",
   "metadata": {},
   "outputs": [
    {
     "name": "stdout",
     "output_type": "stream",
     "text": [
      "16343\n"
     ]
    }
   ],
   "source": [
    "curr = 'AAA'\n",
    "i=0\n",
    "step_nr = 0\n",
    "l = len(nav)\n",
    "while curr != 'ZZZ':\n",
    "    curr = nodes[curr][nav[i]=='R']\n",
    "    step_nr += 1\n",
    "    i = (i+1)%l\n",
    "    \n",
    "print(step_nr)"
   ]
  },
  {
   "cell_type": "code",
   "execution_count": 10,
   "id": "c57e5c8b",
   "metadata": {},
   "outputs": [],
   "source": [
    "starts = ['TVA','DTA','JHA','NCA','MMA','AAA']\n",
    "step_nrs = []\n",
    "for curr in starts:\n",
    "    i=0\n",
    "    step_nr = 0\n",
    "    l = len(nav)\n",
    "    while curr[2] != 'Z':\n",
    "        curr = nodes[curr][nav[i]=='R']\n",
    "        step_nr += 1\n",
    "        i = (i+1)%l\n",
    "    step_nrs.append(step_nr)"
   ]
  },
  {
   "cell_type": "code",
   "execution_count": 12,
   "id": "dd3eadbc",
   "metadata": {},
   "outputs": [],
   "source": [
    "import math\n",
    "def lcm(a,b):\n",
    "    return abs(a*b) // math.gcd(a, b)"
   ]
  },
  {
   "cell_type": "code",
   "execution_count": 13,
   "id": "8d47353d",
   "metadata": {},
   "outputs": [
    {
     "name": "stdout",
     "output_type": "stream",
     "text": [
      "15299095336639\n"
     ]
    }
   ],
   "source": [
    "x=1\n",
    "for i in step_nrs:\n",
    "    x = lcm(x,i)\n",
    "print(x)"
   ]
  }
 ],
 "metadata": {
  "kernelspec": {
   "display_name": "Python 3",
   "language": "python",
   "name": "python3"
  },
  "language_info": {
   "codemirror_mode": {
    "name": "ipython",
    "version": 3
   },
   "file_extension": ".py",
   "mimetype": "text/x-python",
   "name": "python",
   "nbconvert_exporter": "python",
   "pygments_lexer": "ipython3",
   "version": "3.8.8"
  }
 },
 "nbformat": 4,
 "nbformat_minor": 5
}
