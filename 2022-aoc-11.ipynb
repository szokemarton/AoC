{
 "cells": [
  {
   "cell_type": "code",
   "execution_count": null,
   "id": "e5b83d30",
   "metadata": {},
   "outputs": [],
   "source": [
    "import copy\n",
    "import requests\n",
    "import itertools\n",
    "import numpy as np\n",
    "import math\n",
    "import re\n",
    "import time\n",
    "import pandas as pd\n",
    "import IPython"
   ]
  },
  {
   "cell_type": "code",
   "execution_count": null,
   "id": "24081f78",
   "metadata": {},
   "outputs": [],
   "source": [
    "with open(\"input.txt\") as file:\n",
    "    input_txt = file.read()\n",
    "\n",
    "#input_text = requests.get('https://adventofcode.com/2021/day/'+str(nb_name[4:5])+'/input',cookies={\"session\":token}).text"
   ]
  },
  {
   "cell_type": "code",
   "execution_count": null,
   "id": "4b028019",
   "metadata": {},
   "outputs": [],
   "source": [
    "s=\"\"\"Monkey 0:\n",
    "  Starting items: 79, 98\n",
    "  Operation: new = old * 19\n",
    "  Test: divisible by 23\n",
    "    If true: throw to monkey 2\n",
    "    If false: throw to monkey 3\n",
    "\n",
    "Monkey 1:\n",
    "  Starting items: 54, 65, 75, 74\n",
    "  Operation: new = old + 6\n",
    "  Test: divisible by 19\n",
    "    If true: throw to monkey 2\n",
    "    If false: throw to monkey 0\n",
    "\n",
    "Monkey 2:\n",
    "  Starting items: 79, 60, 97\n",
    "  Operation: new = old * old\n",
    "  Test: divisible by 13\n",
    "    If true: throw to monkey 1\n",
    "    If false: throw to monkey 3\n",
    "\n",
    "Monkey 3:\n",
    "  Starting items: 74\n",
    "  Operation: new = old + 3\n",
    "  Test: divisible by 17\n",
    "    If true: throw to monkey 0\n",
    "    If false: throw to monkey 1\"\"\""
   ]
  },
  {
   "cell_type": "code",
   "execution_count": null,
   "id": "85da042a",
   "metadata": {},
   "outputs": [],
   "source": [
    "input_txt = s"
   ]
  },
  {
   "cell_type": "code",
   "execution_count": null,
   "id": "fb901ea2",
   "metadata": {},
   "outputs": [],
   "source": [
    "p = 2*3*5*7*11*13*17*19"
   ]
  },
  {
   "cell_type": "code",
   "execution_count": null,
   "id": "8b21811b",
   "metadata": {},
   "outputs": [],
   "source": [
    "def inspect(worry, op):\n",
    "    if op[1]=='old':\n",
    "        worry = worry**2\n",
    "    elif op[0]=='+':\n",
    "        worry = worry+int(op[1])\n",
    "    else:\n",
    "        worry = worry*int(op[1])\n",
    "    return worry%p#int(worry/3)%p\n",
    "        \n",
    "def test(worry, inp):\n",
    "    if worry%inp[0]==0:\n",
    "        return inp[1]\n",
    "    else:\n",
    "        return inp[2]\n",
    "        \n",
    "def turn(monkey,counter):\n",
    "    for k in range(len(monkey)):\n",
    "        m = monkey[k]\n",
    "        counter[k] += len(list(m[0]))\n",
    "        for i in list(m[0]):\n",
    "            w = inspect(i, m[1])\n",
    "            new = test(w, m[2])\n",
    "            monkey[new][0].append(w)\n",
    "        m[0]=[]\n",
    "    return monkey,counter"
   ]
  },
  {
   "cell_type": "code",
   "execution_count": null,
   "id": "50c7fa8b",
   "metadata": {},
   "outputs": [],
   "source": [
    "monkeys_raw = input_txt.split('Monkey ')[1:]\n",
    "monkey=[]\n",
    "p=1\n",
    "\n",
    "for m in monkeys_raw:\n",
    "    items = m.split('\\n')\n",
    "    si = list([int(i) for i in items[1].replace(',','').split(' ')[4:]])\n",
    "    op = items[2].split(' ')[-2:]\n",
    "    test_inp = [int(items[j].split(' ')[-1]) for j in [3,4,5]]\n",
    "    p *=test_inp[0]\n",
    "    monkey.append([si, op, test_inp])\n",
    "    \n",
    "counter = [0]*len(monkey)\n",
    "for i in range(10000):\n",
    "    monkey,counter = turn(monkey,counter)"
   ]
  },
  {
   "cell_type": "code",
   "execution_count": null,
   "id": "992b8189",
   "metadata": {},
   "outputs": [],
   "source": [
    "counter.sort()\n",
    "counter[-1]*counter[-2]"
   ]
  }
 ],
 "metadata": {
  "kernelspec": {
   "display_name": "Python 3 (ipykernel)",
   "language": "python",
   "name": "python3"
  },
  "language_info": {
   "codemirror_mode": {
    "name": "ipython",
    "version": 3
   },
   "file_extension": ".py",
   "mimetype": "text/x-python",
   "name": "python",
   "nbconvert_exporter": "python",
   "pygments_lexer": "ipython3",
   "version": "3.9.7"
  }
 },
 "nbformat": 4,
 "nbformat_minor": 5
}
