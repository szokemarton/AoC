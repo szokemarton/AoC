{
 "cells": [
  {
   "cell_type": "code",
   "execution_count": 1,
   "id": "b433906b",
   "metadata": {},
   "outputs": [],
   "source": [
    "with open(\"input05.txt\") as file:\n",
    "    input_txt = file.read().split('\\n')"
   ]
  },
  {
   "cell_type": "code",
   "execution_count": 2,
   "id": "e7d2c908",
   "metadata": {},
   "outputs": [],
   "source": [
    "seeds = [int(i) for i in input_txt[0].split()[1:]]\n",
    "seeds.sort()"
   ]
  },
  {
   "cell_type": "code",
   "execution_count": 3,
   "id": "72882571",
   "metadata": {},
   "outputs": [],
   "source": [
    "steps = []\n",
    "curr = []\n",
    "for r in input_txt[3:]:\n",
    "    if \"-to-\" in r:\n",
    "        curr.sort()\n",
    "        steps.append(curr)\n",
    "        curr = []\n",
    "    else:\n",
    "        if r != '':\n",
    "            aux = [int(i) for i in r.split()]\n",
    "            curr.append([aux[1],aux[0],aux[2]])\n",
    "curr.sort()\n",
    "steps.append(curr)"
   ]
  },
  {
   "cell_type": "markdown",
   "id": "977eb51c",
   "metadata": {},
   "source": [
    "# Part 1"
   ]
  },
  {
   "cell_type": "code",
   "execution_count": 4,
   "id": "5472486a",
   "metadata": {},
   "outputs": [],
   "source": [
    "for s in steps:\n",
    "    new_seed = []\n",
    "    seeds.sort()\n",
    "    j = 0\n",
    "    for a in seeds:\n",
    "        found = False\n",
    "        while not found:\n",
    "            src = s[j][0]\n",
    "            dest = s[j][1] \n",
    "            inter = s[j][2]\n",
    "            if a < src:\n",
    "                new_seed.append(a)\n",
    "                found = True\n",
    "            elif src<= a < src+inter:\n",
    "                a += dest-src\n",
    "                found = True\n",
    "                new_seed.append(a)\n",
    "            elif j == len(s)-1:\n",
    "                new_seed.append(a)\n",
    "                found = True\n",
    "            else:\n",
    "                j+=1\n",
    "    seeds = new_seed\n",
    "    #print(seeds)"
   ]
  },
  {
   "cell_type": "code",
   "execution_count": 5,
   "id": "62edc652",
   "metadata": {},
   "outputs": [
    {
     "name": "stdout",
     "output_type": "stream",
     "text": [
      "346433842\n"
     ]
    }
   ],
   "source": [
    "print(min(seeds))"
   ]
  },
  {
   "cell_type": "markdown",
   "id": "659e86f2",
   "metadata": {},
   "source": [
    "# Part 2"
   ]
  },
  {
   "cell_type": "code",
   "execution_count": 6,
   "id": "2a250ed3",
   "metadata": {},
   "outputs": [],
   "source": [
    "seeds = [int(i) for i in input_txt[0].split()[1:]]\n",
    "seed_int = []\n",
    "\n",
    "for j in range(int(len(seeds)/2)):\n",
    "    seed_int.append([seeds[2*j],seeds[2*j]+seeds[2*j+1]-1])"
   ]
  },
  {
   "cell_type": "code",
   "execution_count": 7,
   "id": "75f590b0",
   "metadata": {},
   "outputs": [
    {
     "data": {
      "text/plain": [
       "[[919339981, 1481784610],\n",
       " [3366006921, 3433834134],\n",
       " [1496677366, 1597834144],\n",
       " [4140591657, 4146449967],\n",
       " [2566406753, 2638131105],\n",
       " [2721360939, 2757260476],\n",
       " [383860877, 808529635],\n",
       " [3649554897, 4091737458],\n",
       " [2846055542, 2896009370],\n",
       " [2988140126, 3244446596]]"
      ]
     },
     "execution_count": 7,
     "metadata": {},
     "output_type": "execute_result"
    }
   ],
   "source": [
    "seed_int"
   ]
  },
  {
   "cell_type": "code",
   "execution_count": 8,
   "id": "84db21ee",
   "metadata": {},
   "outputs": [],
   "source": [
    "for s in steps:\n",
    "    new_seed_int = []\n",
    "    seed_int.sort()\n",
    "    j = 0\n",
    "    for a in seed_int:\n",
    "        found = False\n",
    "        while not found:\n",
    "            #print(a)\n",
    "            #print(s)\n",
    "            #print(j)\n",
    "            src = s[j][0]\n",
    "            dest = s[j][1] \n",
    "            inter = s[j][2]\n",
    "            if a[1] < src:\n",
    "                new_seed_int.append(a)\n",
    "                found = True\n",
    "            elif a[0] < src:\n",
    "                new_seed_int.append([a[0],src-1])\n",
    "                a[0] = src\n",
    "            elif src<= a[0] and a[1] < src+inter:\n",
    "                a[0] += dest-src\n",
    "                a[1] += dest-src\n",
    "                found = True\n",
    "                new_seed_int.append(a)\n",
    "            elif src <= a[0] < src+inter:\n",
    "                new_seed_int.append([a[0]+dest-src,inter+dest-1])\n",
    "                a[0] = src+inter\n",
    "            elif j == len(s)-1:\n",
    "                new_seed_int.append(a)\n",
    "                found = True\n",
    "            else:\n",
    "                j+=1\n",
    "    seed_int = new_seed_int\n",
    "    #print(seed_int)\n",
    "    #print(\"--\")"
   ]
  },
  {
   "cell_type": "code",
   "execution_count": 9,
   "id": "b6f99d4b",
   "metadata": {},
   "outputs": [
    {
     "name": "stdout",
     "output_type": "stream",
     "text": [
      "60294664\n"
     ]
    }
   ],
   "source": [
    "seed_int.sort()\n",
    "print(seed_int[0][0])"
   ]
  }
 ],
 "metadata": {
  "kernelspec": {
   "display_name": "Python 3 (ipykernel)",
   "language": "python",
   "name": "python3"
  },
  "language_info": {
   "codemirror_mode": {
    "name": "ipython",
    "version": 3
   },
   "file_extension": ".py",
   "mimetype": "text/x-python",
   "name": "python",
   "nbconvert_exporter": "python",
   "pygments_lexer": "ipython3",
   "version": "3.9.7"
  }
 },
 "nbformat": 4,
 "nbformat_minor": 5
}
